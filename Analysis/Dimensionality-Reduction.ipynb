{
 "cells": [
  {
   "cell_type": "code",
   "execution_count": null,
   "id": "9f04ef59",
   "metadata": {},
   "outputs": [],
   "source": [
    "import pandas as pd\n",
    "import numpy as np\n",
    "from matplotlib import pyplot as plt\n",
    "from sklearn.ensemble import RandomForestClassifier as RFC\n",
    "from mechlearn import split_and_scale as ss\n",
    "from mechlearn import roc"
   ]
  },
  {
   "cell_type": "code",
   "execution_count": null,
   "id": "6c867c78",
   "metadata": {},
   "outputs": [],
   "source": [
    "X = pd.read_csv('../Resources/X.csv')\n",
    "y = pd.read_csv('../Resources/y.csv').to_numpy().ravel()\n",
    "features = X.columns"
   ]
  },
  {
   "cell_type": "code",
   "execution_count": null,
   "id": "e4b98f30",
   "metadata": {},
   "outputs": [],
   "source": [
    "features"
   ]
  },
  {
   "cell_type": "code",
   "execution_count": null,
   "id": "cd5dea74",
   "metadata": {},
   "outputs": [],
   "source": [
    "len(features)"
   ]
  },
  {
   "cell_type": "markdown",
   "id": "d5dd3c5e",
   "metadata": {},
   "source": [
    "## Results without any Dimensionality Reduciton\n",
    "To start we consider the accuracy area under the ROC of the random forest classifier model trained and tested on the full dataset. This will serve as a reference for how subsequent models perform. "
   ]
  },
  {
   "cell_type": "code",
   "execution_count": null,
   "id": "4b167ed1",
   "metadata": {},
   "outputs": [],
   "source": [
    "_Xs, Xs_, _y, y_ = ss(X, y)\n",
    "rfc_1 = RFC().fit(_Xs, _y)\n",
    "importances = rfc_1.feature_importances_\n",
    "acc_1 = rfc_1.score(Xs_, y_)\n",
    "print(f'Random Forest (Using Whole Dataset)\\nAccuracy: {round(acc_1,4)*100}%')"
   ]
  },
  {
   "cell_type": "markdown",
   "id": "7dc483de",
   "metadata": {},
   "source": [
    "Using the 'feature_importances_' of the RFC model, we can see which features explain the most signal-to-noise in the output and therefore are most useful (or important) to the model."
   ]
  },
  {
   "cell_type": "code",
   "execution_count": null,
   "id": "ef3354c3",
   "metadata": {},
   "outputs": [],
   "source": [
    "ticks = np.arange(len(features))\n",
    "fig, ax = plt.subplots()\n",
    "ax.barh(ticks, importances)\n",
    "ax.set_yticks(ticks, labels=features)\n",
    "fig.set_size_inches(15, 15)\n",
    "plt.show()"
   ]
  },
  {
   "cell_type": "markdown",
   "id": "276f96df",
   "metadata": {},
   "source": [
    "Somewhat unsurprisingly, features that represent the customer's use of the credit, like 'Total_Trans_Ct' and 'Total_Trans_Amt' ahve the highest importance to the model. Conversly, demographic features like 'Customer_Age', 'Education_Level' and 'Income_Category' show lower importance to the model. While this could be partially explained by saying that customer use is a better indicator of attrition, it's also important to consider two things \n",
    "1. Many of the demographic features are encoded meaning each an original feature like 'Gender' is represented by mulptle features in the data, 'Gender_M' and 'Gender_F'. Becuase of this, the total feature importance could be higher than what is shown for each individual encoded compoenent feature.\n",
    "1. 'Education_Level', 'Marital_Status' and 'Income_Category', all of which are demographics contain 'Unknown' values. "
   ]
  },
  {
   "cell_type": "markdown",
   "id": "0b2b5c61",
   "metadata": {},
   "source": [
    "## 1. Using Only Demographics"
   ]
  },
  {
   "cell_type": "code",
   "execution_count": null,
   "id": "2cf451c5",
   "metadata": {},
   "outputs": [],
   "source": [
    "featuresr = [features[i] for i in np.r_[0:2, 14:33]] # just demographics columns like age, education_level etc.\n",
    "Xr = X.iloc[:, np.r_[0:2, 14:33]]"
   ]
  },
  {
   "cell_type": "code",
   "execution_count": null,
   "id": "f24b8c2a",
   "metadata": {},
   "outputs": [],
   "source": [
    "_Xrs, Xrs_, _y, y_ = ss(Xr, y)\n",
    "rfc_2 = RFC().fit(_Xrs, _y)\n",
    "rfc_2.score(Xrs_, y_)"
   ]
  },
  {
   "cell_type": "code",
   "execution_count": null,
   "id": "7b16db42",
   "metadata": {},
   "outputs": [],
   "source": [
    "len(featuresr)"
   ]
  },
  {
   "cell_type": "code",
   "execution_count": null,
   "id": "693beb8a",
   "metadata": {},
   "outputs": [],
   "source": [
    "Xr.to_csv('../Resources/X-dem.csv', index=False)"
   ]
  },
  {
   "cell_type": "markdown",
   "id": "9d17d995",
   "metadata": {},
   "source": [
    "## 2. Using PCA"
   ]
  },
  {
   "cell_type": "code",
   "execution_count": null,
   "id": "864d5583",
   "metadata": {},
   "outputs": [],
   "source": [
    "from sklearn.model_selection import train_test_split as tts\n",
    "from sklearn.preprocessing import StandardScaler as SS\n",
    "from sklearn.decomposition import PCA\n",
    "from sklearn.manifold import TSNE\n",
    "_Xd, Xd_, _yd, yd_ = tts(X, y)\n",
    "ssd = SS()\n",
    "_Xds, Xds_ = ssd.fit_transform(_Xd), ssd.transform(Xd_)\n",
    "pca = PCA(n_components=21)\n",
    "_Xdsp, Xdsp_ = pca.fit_transform(_Xds), pca.transform(Xds_)\n",
    "pca.explained_variance_ratio_"
   ]
  },
  {
   "cell_type": "code",
   "execution_count": null,
   "id": "c7872e64",
   "metadata": {},
   "outputs": [],
   "source": [
    "len(pca.components_)"
   ]
  },
  {
   "cell_type": "code",
   "execution_count": null,
   "id": "80db5646",
   "metadata": {},
   "outputs": [],
   "source": [
    "rfc_3 = RFC()\n",
    "rfc_3.fit(_Xdsp, _yd)\n",
    "rfc_3.score(Xdsp_, y_)"
   ]
  },
  {
   "cell_type": "code",
   "execution_count": null,
   "id": "5be53d69",
   "metadata": {},
   "outputs": [],
   "source": [
    "Xdsp.to_csv('../Resources/X-pca.csv', index=False)"
   ]
  },
  {
   "cell_type": "code",
   "execution_count": null,
   "id": "b756228e",
   "metadata": {},
   "outputs": [],
   "source": [
    "rfc_1.get_params()"
   ]
  },
  {
   "cell_type": "code",
   "execution_count": null,
   "id": "64adc59f",
   "metadata": {},
   "outputs": [],
   "source": [
    "def unit_vector(dimension, number_of_dimensions):\n",
    "    v1 = [0 for _ in range(dimension)]\n",
    "    v2 = [0 for _ in range(number_of_dimensions-dimension-1)]\n",
    "    return (v1 + [1] + v2),\n",
    "\n",
    "print(len(unit_vector(5, 10)[0]))\n",
    "print(unit_vector(5,10)[0][5])\n",
    "print(unit_vector(5,10))"
   ]
  },
  {
   "cell_type": "code",
   "execution_count": null,
   "id": "e50ec1a4",
   "metadata": {},
   "outputs": [],
   "source": [
    "T = np.array([pca.inverse_transform(unit_vector(comeponent, 23))[0] for comeponent in range(23)])\n",
    "print(T)"
   ]
  },
  {
   "cell_type": "code",
   "execution_count": null,
   "id": "63e1710b",
   "metadata": {},
   "outputs": [],
   "source": [
    "T.shape"
   ]
  },
  {
   "cell_type": "code",
   "execution_count": null,
   "id": "f645089c",
   "metadata": {},
   "outputs": [],
   "source": []
  }
 ],
 "metadata": {
  "kernelspec": {
   "display_name": "Python 3 (ipykernel)",
   "language": "python",
   "name": "python3"
  },
  "language_info": {
   "codemirror_mode": {
    "name": "ipython",
    "version": 3
   },
   "file_extension": ".py",
   "mimetype": "text/x-python",
   "name": "python",
   "nbconvert_exporter": "python",
   "pygments_lexer": "ipython3",
   "version": "3.8.13"
  }
 },
 "nbformat": 4,
 "nbformat_minor": 5
}
