{
 "cells": [
  {
   "cell_type": "markdown",
   "id": "8997fb5f",
   "metadata": {},
   "source": [
    "## Random Forest Classifiers\n",
    "<ins>R</ins>andom <ins>F</ins>orest <ins>C</ins>lassifiers use an ensemble method meaning models are created by combining the result of many individual decision tree models. Decision trees classify a set of features by combining (many) layers of sub-classifications. RFCs train small decision trees, that is ones with only a few layers, and use the most popular result of all the trees to classify the set of features. \n",
    "\n",
    "RFCs can produce powerful models and are particulary good at working with categorical. They do not scale well with large amounts of data. Another disadvantage is they can train to favor some features more than others. In  many situations RFC models perform as good or better than other types of models. "
   ]
  },
  {
   "cell_type": "markdown",
   "id": "99415528",
   "metadata": {},
   "source": [
    "## Using RFC on the Credit Card Churn Data\n",
    "The credit card data includes both demographic and "
   ]
  },
  {
   "cell_type": "markdown",
   "id": "a833277a",
   "metadata": {},
   "source": [
    "## Setup\n",
    "The mechlearn file was writen to easily compute the accuracy score and 'area under the curve' for a given model. The 'auct' function splits and scales the proved data sets, creates a model with them, generates an receiver/operater curve and returns the false positive and true posititves rates as well the area under the curve. The 'acct' fuinction splits and scales the proved data sets, creates a model with them and scores the accuracy of the model on the testing set."
   ]
  },
  {
   "cell_type": "code",
   "execution_count": null,
   "id": "77f77e4d",
   "metadata": {},
   "outputs": [],
   "source": [
    "# import dependencies\n",
    "import pandas as pd\n",
    "from mechlearn import split_and_scale as ss\n",
    "from mechlearn import auc_test as auct\n",
    "from mechlearn import acc_test as acct\n",
    "from mechlearn import feature_importances as fi\n",
    "from matplotlib import pyplot as plt\n",
    "import numpy as np"
   ]
  },
  {
   "cell_type": "markdown",
   "id": "47a1ba86",
   "metadata": {},
   "source": [
    "The 'Resources/X.csv' and 'Resources/y.csv' files were generated in the etl_workflow.ipynb and hold the cleaned data and target values for the entire dataset."
   ]
  },
  {
   "cell_type": "code",
   "execution_count": null,
   "id": "11440eb4",
   "metadata": {},
   "outputs": [],
   "source": [
    "# load data (X) and target (y) into dataframes\n",
    "X = pd.read_csv('../Resources/X.csv')\n",
    "y = pd.read_csv('../Resources/y.csv')"
   ]
  },
  {
   "cell_type": "markdown",
   "id": "12658b13",
   "metadata": {},
   "source": [
    "## Evaluate Model Using All Features"
   ]
  },
  {
   "cell_type": "code",
   "execution_count": null,
   "id": "89b42a59",
   "metadata": {},
   "outputs": [],
   "source": [
    "features = X.columns\n",
    "print(f'Feature names: {features}')\n",
    "print(f'Number of Features: {len(features)}')"
   ]
  },
  {
   "cell_type": "code",
   "execution_count": null,
   "id": "c1954d10",
   "metadata": {},
   "outputs": [],
   "source": [
    "print('Random forest classifiier on full data')\n",
    "print(f'Accuracy: {acct(X, y, model=\"rfc\")}')\n",
    "print(f'Area under curve: {auct(X, y, model=\"rfc\")}')"
   ]
  },
  {
   "cell_type": "code",
   "execution_count": null,
   "id": "6bccfb0a",
   "metadata": {},
   "outputs": [],
   "source": [
    "plot = pd.read_csv('../Outputs/RandomForestClassifier_ROC.csv')\n",
    "plt.plot(plot['fpr'], plot['tpr'])\n",
    "plt.xlabel('False Postive Rate')\n",
    "plt.ylabel('True Positive Rate')\n",
    "plt.title('ROC for Random Forest Classifier Using All Features')\n",
    "plt.show()"
   ]
  },
  {
   "cell_type": "code",
   "execution_count": null,
   "id": "90f24d49",
   "metadata": {},
   "outputs": [],
   "source": [
    "feature_importances = fi(X, y, model='rfc')\n",
    "ticks = np.arange(len(X.columns))\n",
    "fig, ax = plt.subplots()\n",
    "ax.barh(ticks, feature_importances)\n",
    "ax.set_yticks(ticks, labels=X.columns)\n",
    "fig.set_size_inches(15, 15)\n",
    "ax.set_xlabel('Feature Importances')\n",
    "ax.set_title('Feature Importances for Random Forest Classifier')\n",
    "plt.show()\n",
    "pd.DataFrame({'Features': features, 'Feature_Importances': feature_importances}).to_csv('../Outputs/RandomForestClassifier_FI.csv')"
   ]
  },
  {
   "cell_type": "markdown",
   "id": "9c3e8f02",
   "metadata": {},
   "source": [
    "## Evaluate Model with Just Demographics Data"
   ]
  },
  {
   "cell_type": "code",
   "execution_count": null,
   "id": "612111e0",
   "metadata": {},
   "outputs": [],
   "source": [
    "Xdem = pd.read_csv('../Resources/X-dem.csv')"
   ]
  },
  {
   "cell_type": "code",
   "execution_count": null,
   "id": "80f5f346",
   "metadata": {},
   "outputs": [],
   "source": [
    "features_dem = Xdem.columns.values\n",
    "print(f'Feature names: {features_dem}')\n",
    "print(f'Number of Features: {len(features_dem)}')"
   ]
  },
  {
   "cell_type": "code",
   "execution_count": null,
   "id": "c8f55068",
   "metadata": {},
   "outputs": [],
   "source": [
    "print('Random forest classifiier on demographic data only')\n",
    "print(f'Accuracy: {acct(Xdem, y, model=\"rfc\")}')\n",
    "print(f'Area under curve: {auct(Xdem, y, model=\"rfc\", data_set=\"X-dem\")}')"
   ]
  },
  {
   "cell_type": "code",
   "execution_count": null,
   "id": "1ed2f4b0",
   "metadata": {},
   "outputs": [],
   "source": [
    "plot_dem = pd.read_csv('../Outputs/X-dem_RandomForestClassifier_ROC.csv')\n",
    "plt.plot(plot_dem['fpr'], plot_dem['tpr'])\n",
    "plt.xlabel('False Postive Rate')\n",
    "plt.ylabel('True Positive Rate')\n",
    "plt.title('ROC for Random Forest Classifier Using Demographics')\n",
    "plt.show()"
   ]
  },
  {
   "cell_type": "code",
   "execution_count": null,
   "id": "5e4136d9",
   "metadata": {},
   "outputs": [],
   "source": [
    "feature_importances_dem = fi(Xdem, y, model='rfc')\n",
    "ticks = np.arange(len(features_dem))\n",
    "fig, ax = plt.subplots()\n",
    "ax.barh(ticks, feature_importances_dem)\n",
    "ax.set_yticks(ticks, labels=features_dem)\n",
    "fig.set_size_inches(15, 15)\n",
    "ax.set_xlabel('Feature Importances')\n",
    "ax.set_title('Feature Importances for Random Forest Classifier Using Demographics')\n",
    "plt.show()\n",
    "pd.DataFrame({'Features': features_dem, 'Feature_Importances': feature_importances_dem}).to_csv('../Outputs/X-dem_RandomForestClassifier_FI.csv')"
   ]
  },
  {
   "cell_type": "markdown",
   "id": "259da507",
   "metadata": {},
   "source": [
    "## Evaluate Model with PCA"
   ]
  },
  {
   "cell_type": "code",
   "execution_count": null,
   "id": "e87af66a",
   "metadata": {},
   "outputs": [],
   "source": [
    "from sklearn.decomposition import PCA\n",
    "from sklearn.manifold import TSNE\n",
    "from sklearn.ensemble import RandomForestClassifier as RFC\n",
    "from mechlearn import roc\n",
    "\n",
    "_Xs, Xs_, _ypca, ypca_ = ss(X, y)\n",
    "pca = PCA(n_components=21)\n",
    "_Xspca, Xspca_ = pca.fit_transform(_Xs), pca.transform(Xs_)\n",
    "print(f'Variance ratio of components: {[round(variance,2) for variance in pca.explained_variance_ratio_]}')\n",
    "print(f'Number of components: 21')"
   ]
  },
  {
   "cell_type": "code",
   "execution_count": null,
   "id": "ed62b004",
   "metadata": {},
   "outputs": [],
   "source": [
    "rfc_pca = RFC()\n",
    "rfc_pca.fit(_Xspca, _ypca.to_numpy().ravel())\n",
    "score = rfc_pca.score(Xspca_, ypca_)\n",
    "auc = roc(Xspca_, ypca_, rfc_pca, 100, area=True, save_path='../Outputs/X-pca_RandomForestClassifier_ROC.csv')\n",
    "print('Random forest classifiier with PCA')\n",
    "print(f'Accuracy: {score}')\n",
    "print(f'Area under curve: {auc}')"
   ]
  },
  {
   "cell_type": "code",
   "execution_count": null,
   "id": "1f1b7fb7",
   "metadata": {},
   "outputs": [],
   "source": [
    "plot_pca = pd.read_csv('../Outputs/X-pca_RandomForestClassifier_ROC.csv')\n",
    "plt.plot(plot_pca['fpr'], plot_pca['tpr'])\n",
    "plt.xlabel('False Postive Rate')\n",
    "plt.ylabel('True Positive Rate')\n",
    "plt.title('ROC for Random Forest Classifier with PCA')\n",
    "plt.show()"
   ]
  },
  {
   "cell_type": "code",
   "execution_count": null,
   "id": "f7ac64a4",
   "metadata": {},
   "outputs": [],
   "source": []
  },
  {
   "cell_type": "code",
   "execution_count": null,
   "id": "406f7e9d",
   "metadata": {},
   "outputs": [],
   "source": [
    "from sklearn.model_selection import train_test_split as tts\n",
    "from sklearn.preprocessing import StandardScaler as SS\n",
    "rfc_dem = RFC()\n",
    "_Xdem, Xdem_, _y, y_ = tts(Xdem, y)\n",
    "ss = SS()\n",
    "_Xsdem, Xsdem_ = ss.fit_transform(_Xdem), ss.transform(Xdem_)\n",
    "rfc_dem.fit(_Xsdem, _y.to_numpy().ravel())\n",
    "rfc_dem_val = pd.DataFrame(Xdem_, columns=features_dem)\n",
    "rfc_dem_val['target'] = y_\n",
    "rfc_dem_val['prediction'] = rfc_dem.predict_proba(Xsdem_)[:,1]"
   ]
  },
  {
   "cell_type": "code",
   "execution_count": null,
   "id": "03f96d81",
   "metadata": {},
   "outputs": [],
   "source": [
    "rfc_age = rfc_dem_val.groupby('Customer_Age').mean()\n",
    "rfc_age['count'] = rfc_dem_val.groupby('Customer_Age').count()['target']\n",
    "rfc_age['target_variance'] = rfc_dem_val.groupby('Customer_Age').std()['target']\n",
    "rfc_age['prediction_variance'] = rfc_dem_val.groupby('Customer_Age').std()['prediction']"
   ]
  },
  {
   "cell_type": "code",
   "execution_count": null,
   "id": "2f28e138",
   "metadata": {},
   "outputs": [],
   "source": [
    "import math\n",
    "plt.plot(rfc_age.index, rfc_age['prediction'], c='red', label='Mean Prediction')\n",
    "# plt.fill_between(rfc_age.index, rfc_age['prediction']+rfc_age['prediction_variance'], y2=rfc_age['prediction']-rfc_age['prediction_variance'], color='red', alpha=.1)\n",
    "plt.plot(rfc_age.index, rfc_age['target'], c='blue', label='Mean Target')\n",
    "# plt.fill_between(rfc_age.index, rfc_age['target']+rfc_age['target_variance'], y2=rfc_age['target']-rfc_age['target_variance'], color='blue', alpha=.1)\n",
    "# plt.plot(rfc_age.index, rfc_age['count'].apply(lambda x: x/math.sqrt(39*2532)))\n",
    "plt.legend()\n",
    "plt.title('RFC Prediction Across Age')\n",
    "plt.xlabel('Age')\n",
    "plt.savefig('../Outputs/RFC-age-prediction.png')\n",
    "plt.show()"
   ]
  },
  {
   "cell_type": "code",
   "execution_count": null,
   "id": "0f9ff435",
   "metadata": {},
   "outputs": [],
   "source": [
    "def feature_variance(df, feature, save_path=None, show_error=False):\n",
    "    all_features = df.columns\n",
    "    dfi = df\n",
    "    if not feature in all_features:\n",
    "        dfi[feature] = 1\n",
    "        encoded_features = list(filter(lambda feature_: feature in feature_, all_features))\n",
    "        for feature_ in encoded_features:\n",
    "            dfi[feature] = df.apply(lambda x: feature_.replace(f'{feature}_', '') if x[feature_] == 1 else x[feature], axis=1)\n",
    "    dfr = dfi.groupby(feature).mean()\n",
    "    dfr['target_variance'] = df.groupby(feature).std()['target']\n",
    "    dfr['prediction_variance'] = df.groupby(feature).std()['prediction']\n",
    "    plt.plot(dfr.index, dfr['prediction'], c='red', label='Mean Prediction')\n",
    "    plt.plot(dfr.index, dfr['target'], c='blue', label='Mean Target')\n",
    "    if show_error:\n",
    "        plt.fill_between(dfr.index, dfr['prediction']+dfr['prediction_variance'], y2=dfr['prediction']-dfr['prediction_variance'], color='red', alpha=.1)\n",
    "        plt.fill_between(dfr.index, dfr['target']+dfr['target_variance'], y2=dfr['target']-dfr['target_variance'], color='blue', alpha=.1)\n",
    "    plt.legend()\n",
    "    plt.title(f'RFC Prediciton Across {feature}')\n",
    "    plt.xlabel(feature)\n",
    "    plt.ylabel('Proportion')\n",
    "    if not save_path == None:\n",
    "        plt.savefig(save_path)\n",
    "    plt.show()"
   ]
  },
  {
   "cell_type": "code",
   "execution_count": null,
   "id": "6f2e8174",
   "metadata": {},
   "outputs": [],
   "source": [
    "feature_variance(rfc_dem_val, 'Education_Level')"
   ]
  },
  {
   "cell_type": "code",
   "execution_count": null,
   "id": "84c2311e",
   "metadata": {},
   "outputs": [],
   "source": [
    "feature_variance(rfc_dem_val, 'Dependent_count', show_error=True)"
   ]
  },
  {
   "cell_type": "code",
   "execution_count": null,
   "id": "058adc64",
   "metadata": {},
   "outputs": [],
   "source": [
    "plt.hist(rfc_dem_val['prediction'])\n",
    "plt.xlabel('Prediction Probability')\n",
    "plt.ylabel('Model Prediction Frequency')\n",
    "plt.title('Number of Times the Model Returns a\\nPrediction Probability')\n",
    "plt.savefig('../Outputs/RFC-prediction-distribution.png')\n",
    "plt.show()"
   ]
  },
  {
   "cell_type": "code",
   "execution_count": null,
   "id": "242bb42b",
   "metadata": {},
   "outputs": [],
   "source": [
    "threshold = 0.7\n",
    "negative = rfc_dem_val.loc[rfc_dem_val['prediction']<threshold,:].mean()\n",
    "positive = rfc_dem_val.loc[rfc_dem_val['prediction']>=threshold,:].mean()\n",
    "positive"
   ]
  },
  {
   "cell_type": "code",
   "execution_count": null,
   "id": "00fe867e",
   "metadata": {},
   "outputs": [],
   "source": [
    "negative"
   ]
  },
  {
   "cell_type": "code",
   "execution_count": null,
   "id": "29c9bc8f",
   "metadata": {},
   "outputs": [],
   "source": [
    "rfc_dem_val.mean()"
   ]
  },
  {
   "cell_type": "code",
   "execution_count": null,
   "id": "acb3a4fa",
   "metadata": {},
   "outputs": [],
   "source": [
    "'Andrew'.replace('And', '')"
   ]
  },
  {
   "cell_type": "code",
   "execution_count": null,
   "id": "b89d8a7c",
   "metadata": {},
   "outputs": [],
   "source": [
    "'Gender' in 'Gender_F'"
   ]
  },
  {
   "cell_type": "code",
   "execution_count": null,
   "id": "6b12143b",
   "metadata": {},
   "outputs": [],
   "source": []
  }
 ],
 "metadata": {
  "kernelspec": {
   "display_name": "Python 3 (ipykernel)",
   "language": "python",
   "name": "python3"
  },
  "language_info": {
   "codemirror_mode": {
    "name": "ipython",
    "version": 3
   },
   "file_extension": ".py",
   "mimetype": "text/x-python",
   "name": "python",
   "nbconvert_exporter": "python",
   "pygments_lexer": "ipython3",
   "version": "3.8.13"
  }
 },
 "nbformat": 4,
 "nbformat_minor": 5
}
