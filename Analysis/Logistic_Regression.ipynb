{
 "cells": [
  {
   "cell_type": "code",
   "execution_count": 1,
   "id": "ba117d77",
   "metadata": {},
   "outputs": [],
   "source": [
    "# This converts the linear regression output to a probability\n",
    "%matplotlib inline\n",
    "import matplotlib.pyplot as plt\n",
    "import pandas as pd\n",
    "import os\n",
    "import warnings\n",
    "warnings.filterwarnings('ignore') "
   ]
  },
  {
   "cell_type": "markdown",
   "id": "5bd53b97",
   "metadata": {},
   "source": [
    "## Create a logistic regression model"
   ]
  },
  {
   "cell_type": "code",
   "execution_count": 2,
   "id": "87af8390",
   "metadata": {},
   "outputs": [],
   "source": [
    "# Copied from etl_workflow for convenience\n",
    "churn_db = pd.read_csv(\"../Resources/BankChurners.csv\", low_memory=False)\n",
    "clean_churn_db=churn_db.iloc[:,2:21]\n",
    "clean_churn_db = pd.get_dummies(clean_churn_db)\n",
    "x = clean_churn_db\n",
    "y = pd.get_dummies(churn_db[\"Attrition_Flag\"]).iloc[:,0]"
   ]
  },
  {
   "cell_type": "code",
   "execution_count": 3,
   "id": "186d6426",
   "metadata": {},
   "outputs": [],
   "source": [
    "# Split our data into training and testing data\n",
    "from sklearn.model_selection import train_test_split\n",
    "\n",
    "X_train, X_test, y_train, y_test = train_test_split(x, y, random_state=1)"
   ]
  },
  {
   "cell_type": "code",
   "execution_count": 4,
   "id": "32cb23ec",
   "metadata": {},
   "outputs": [],
   "source": [
    "# Create a logistic regression model\n",
    "from sklearn.linear_model import LogisticRegression\n",
    "lr_model = LogisticRegression(max_iter=10000) \n"
   ]
  },
  {
   "cell_type": "code",
   "execution_count": 5,
   "id": "2f579b7f",
   "metadata": {},
   "outputs": [
    {
     "data": {
      "text/plain": [
       "LogisticRegression(max_iter=10000)"
      ]
     },
     "execution_count": 5,
     "metadata": {},
     "output_type": "execute_result"
    }
   ],
   "source": [
    "# Fit (train) our model by using the training data\n",
    "lr_model.fit(X_train, y_train)"
   ]
  },
  {
   "cell_type": "code",
   "execution_count": 6,
   "id": "51a1c36c",
   "metadata": {},
   "outputs": [
    {
     "name": "stdout",
     "output_type": "stream",
     "text": [
      "Training Data Score: 0.8905859117840684\n",
      "Testing Data Score: 0.891785150078989\n"
     ]
    }
   ],
   "source": [
    "# Display Results\n",
    "print(f\"Training Data Score: {lr_model.score(X_train, y_train)}\")\n",
    "print(f\"Testing Data Score: {lr_model.score(X_test, y_test)}\")"
   ]
  },
  {
   "cell_type": "markdown",
   "id": "ae711f6a",
   "metadata": {},
   "source": [
    "## Logistic ROC curve"
   ]
  },
  {
   "cell_type": "code",
   "execution_count": 7,
   "id": "d319f815",
   "metadata": {},
   "outputs": [],
   "source": [
    "# Create a StandardScaler() model and fit it to the training data\n",
    "from sklearn.preprocessing import StandardScaler\n",
    "\n",
    "X_scaler = StandardScaler().fit(X_train)"
   ]
  },
  {
   "cell_type": "code",
   "execution_count": 8,
   "id": "3c38da11",
   "metadata": {},
   "outputs": [],
   "source": [
    "# Transform the training and testing data by using the X_scaler\n",
    "X_train_scaled = X_scaler.transform(X_train)\n",
    "X_test_scaled = X_scaler.transform(X_test)"
   ]
  },
  {
   "cell_type": "code",
   "execution_count": 9,
   "id": "68b64fd2",
   "metadata": {},
   "outputs": [],
   "source": [
    "# Get the probability for each class in the model\n",
    "y_pred_proba_lr = lr_model.predict_proba(X_test_scaled)[:,1]"
   ]
  },
  {
   "cell_type": "code",
   "execution_count": 10,
   "id": "bfaddd72",
   "metadata": {},
   "outputs": [],
   "source": [
    "# Get the ROC curve data for the logistic regression model\n",
    "# Import the roc_curve module from scikit-learn\n",
    "from sklearn.metrics import roc_curve\n",
    "fpr_lr, tpr_lr, thresholds_lr = roc_curve(y_test, y_pred_proba_lr)"
   ]
  },
  {
   "cell_type": "code",
   "execution_count": 11,
   "id": "ef674de3",
   "metadata": {},
   "outputs": [
    {
     "data": {
      "image/png": "[encoded data removed]",
      "text/plain": [
       "<Figure size 432x288 with 1 Axes>"
      ]
     },
     "metadata": {
      "needs_background": "light"
     },
     "output_type": "display_data"
    }
   ],
   "source": [
    "plt.figure()\n",
    "plt.plot(fpr_lr, tpr_lr, color=\"darkorange\")\n",
    "plt.plot([0, 1], [0, 1], color=\"navy\", linestyle=\"--\")\n",
    "plt.xlim([0.0, 1.0])\n",
    "plt.ylim([0.0, 1.05])\n",
    "plt.xlabel(\"False Positive Rate\")\n",
    "plt.ylabel(\"True Positive Rate\")\n",
    "plt.title(\"ROC Curve - Logistic Regression\")\n",
    "plt.show()"
   ]
  },
  {
   "cell_type": "code",
   "execution_count": 12,
   "id": "f6ff10b3",
   "metadata": {},
   "outputs": [],
   "source": [
    "plot = pd.DataFrame({\"x\":fpr_lr,\"y1\":tpr_lr})\n",
    "plot.to_csv('../Outputs/LogReg_ROC.csv')"
   ]
  },
  {
   "cell_type": "markdown",
   "id": "e3d953dc",
   "metadata": {},
   "source": [
    "## Compute AUC"
   ]
  },
  {
   "cell_type": "code",
   "execution_count": 13,
   "id": "76c0818d",
   "metadata": {},
   "outputs": [
    {
     "name": "stdout",
     "output_type": "stream",
     "text": [
      "AUC for the Logistic Regression Model: 0.761427153528705\n"
     ]
    }
   ],
   "source": [
    "# Compute AUC for the logistic regression model\n",
    "from sklearn.metrics import auc\n",
    "\n",
    "\n",
    "roc_auc_lr = auc(fpr_lr, tpr_lr)\n",
    "print(f\"AUC for the Logistic Regression Model: {roc_auc_lr}\")"
   ]
  },
  {
   "cell_type": "code",
   "execution_count": 14,
   "id": "3484b9e3",
   "metadata": {},
   "outputs": [
    {
     "name": "stdout",
     "output_type": "stream",
     "text": [
      "[[1162  965]\n",
      " [  83  322]]\n"
     ]
    }
   ],
   "source": [
    "# Show the confusion matrix for the logistic regression model\n",
    "from sklearn.metrics import confusion_matrix\n",
    "\n",
    "y_pred_lr = lr_model.predict(X_test_scaled)\n",
    "cm_lr = confusion_matrix(y_test, y_pred_lr)\n",
    "print(cm_lr)"
   ]
  },
  {
   "cell_type": "code",
   "execution_count": 15,
   "id": "905a6588",
   "metadata": {},
   "outputs": [
    {
     "name": "stdout",
     "output_type": "stream",
     "text": [
      "              precision    recall  f1-score   support\n",
      "\n",
      "           0       0.93      0.55      0.69      2127\n",
      "           1       0.25      0.80      0.38       405\n",
      "\n",
      "    accuracy                           0.59      2532\n",
      "   macro avg       0.59      0.67      0.53      2532\n",
      "weighted avg       0.82      0.59      0.64      2532\n",
      "\n"
     ]
    }
   ],
   "source": [
    "# Print the classification report for the logistic regression model\n",
    "from sklearn.metrics import classification_report\n",
    "\n",
    "print(classification_report(y_test, y_pred_lr))"
   ]
  }
 ],
 "metadata": {
  "kernelspec": {
   "display_name": "PythonData38",
   "language": "python",
   "name": "pythondata38"
  },
  "language_info": {
   "codemirror_mode": {
    "name": "ipython",
    "version": 3
   },
   "file_extension": ".py",
   "mimetype": "text/x-python",
   "name": "python",
   "nbconvert_exporter": "python",
   "pygments_lexer": "ipython3",
   "version": "3.9.12"
  }
 },
 "nbformat": 4,
 "nbformat_minor": 5
}
